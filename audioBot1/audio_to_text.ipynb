{
 "cells": [
  {
   "cell_type": "code",
   "execution_count": null,
   "id": "initial_id",
   "metadata": {
    "collapsed": true
   },
   "outputs": [],
   "source": [
    "import speech_recognition as sr\n",
    "\n",
    "# Initialize recognizer class (for recognizing the speech)\n",
    "recognizer = sr.Recognizer()\n",
    "\n",
    "# Load your audio file\n",
    "audio_file_path = 'path_to_your_audio_file.wav'"
   ]
  },
  {
   "cell_type": "code",
   "outputs": [],
   "source": [
    "# Use the audio file as the audio source\n",
    "with sr.AudioFile(audio_file_path) as source:\n",
    "    # Listen for the data (load audio to memory)\n",
    "    audio_data = recognizer.record(source)\n",
    "    # Recognize (convert from speech to text)\n",
    "    try:\n",
    "        text = recognizer.recognize_google(audio_data)\n",
    "        print(\"Transcription: \" + text)\n",
    "    except sr.UnknownValueError:\n",
    "        # API was unable to understand the audio\n",
    "        print(\"Google Speech Recognition could not understand the audio.\")\n",
    "    except sr.RequestError as e:"
   ],
   "metadata": {
    "collapsed": false
   },
   "id": "619092a921f0102e"
  },
  {
   "cell_type": "code",
   "outputs": [],
   "source": [
    "\n",
    "        # Request failed\n",
    "        print(f\"Could not request results from Google Speech Recognition service; {e}\")\n"
   ],
   "metadata": {
    "collapsed": false
   },
   "id": "34b12302f56b6c39"
  }
 ],
 "metadata": {
  "kernelspec": {
   "display_name": "Python 3",
   "language": "python",
   "name": "python3"
  },
  "language_info": {
   "codemirror_mode": {
    "name": "ipython",
    "version": 2
   },
   "file_extension": ".py",
   "mimetype": "text/x-python",
   "name": "python",
   "nbconvert_exporter": "python",
   "pygments_lexer": "ipython2",
   "version": "2.7.6"
  }
 },
 "nbformat": 4,
 "nbformat_minor": 5
}
