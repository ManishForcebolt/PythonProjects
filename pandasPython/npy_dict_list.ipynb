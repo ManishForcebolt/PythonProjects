{
 "cells": [
  {
   "cell_type": "code",
   "execution_count": 1,
   "id": "initial_id",
   "metadata": {
    "collapsed": true,
    "ExecuteTime": {
     "end_time": "2023-09-01T10:55:04.711888Z",
     "start_time": "2023-09-01T10:55:04.292258Z"
    }
   },
   "outputs": [],
   "source": [
    "import numpy as np\n",
    "import pandas as pd\n",
    "import val"
   ]
  },
  {
   "cell_type": "code",
   "execution_count": 2,
   "outputs": [
    {
     "name": "stdout",
     "output_type": "stream",
     "text": [
      "[[0. 0. 0.]\n",
      " [1. 0. 0.]\n",
      " [0. 1. 0.]]\n"
     ]
    }
   ],
   "source": [
    "# Identity Matrix\n",
    "# arr = np.eye(3,3) \n",
    "arr = np.eye(3,3, k=-1)\n",
    "print(arr)"
   ],
   "metadata": {
    "collapsed": false,
    "ExecuteTime": {
     "end_time": "2023-09-01T10:55:04.720011Z",
     "start_time": "2023-09-01T10:55:04.713363Z"
    }
   },
   "id": "fbb627e51c51c567"
  },
  {
   "cell_type": "code",
   "execution_count": 3,
   "outputs": [
    {
     "name": "stdout",
     "output_type": "stream",
     "text": [
      "[[2. 2. 2.]\n",
      " [7. 2. 2.]\n",
      " [2. 7. 2.]]\n"
     ]
    }
   ],
   "source": [
    "arr[arr == 1] = 7\n",
    "arr[arr == 0] = 2\n",
    "print(arr)"
   ],
   "metadata": {
    "collapsed": false,
    "ExecuteTime": {
     "end_time": "2023-09-01T10:55:04.720160Z",
     "start_time": "2023-09-01T10:55:04.717646Z"
    }
   },
   "id": "6b6834bd66948267"
  },
  {
   "cell_type": "code",
   "execution_count": 4,
   "outputs": [
    {
     "data": {
      "text/plain": "array([7., 2., 2.])"
     },
     "execution_count": 4,
     "metadata": {},
     "output_type": "execute_result"
    }
   ],
   "source": [
    "arr[1,:]"
   ],
   "metadata": {
    "collapsed": false,
    "ExecuteTime": {
     "end_time": "2023-09-01T10:55:04.725003Z",
     "start_time": "2023-09-01T10:55:04.720704Z"
    }
   },
   "id": "3b1c5ae96720ef48"
  },
  {
   "cell_type": "code",
   "execution_count": 5,
   "outputs": [
    {
     "data": {
      "text/plain": "array([2., 2., 2.])"
     },
     "execution_count": 5,
     "metadata": {},
     "output_type": "execute_result"
    }
   ],
   "source": [
    "arr[:,-1]"
   ],
   "metadata": {
    "collapsed": false,
    "ExecuteTime": {
     "end_time": "2023-09-01T10:55:04.732162Z",
     "start_time": "2023-09-01T10:55:04.725275Z"
    }
   },
   "id": "6d81f602fc73bf2d"
  },
  {
   "cell_type": "code",
   "execution_count": 6,
   "outputs": [
    {
     "name": "stdout",
     "output_type": "stream",
     "text": [
      "[[2. 2. 2.]\n",
      " [2. 2. 7.]\n",
      " [2. 2. 7.]]\n"
     ]
    }
   ],
   "source": [
    "sorted_arr = np.sort(arr) # sorted by row\n",
    "print(sorted_arr)"
   ],
   "metadata": {
    "collapsed": false,
    "ExecuteTime": {
     "end_time": "2023-09-01T10:55:04.736347Z",
     "start_time": "2023-09-01T10:55:04.729897Z"
    }
   },
   "id": "8a71a9e24fccc2e6"
  },
  {
   "cell_type": "code",
   "execution_count": 7,
   "outputs": [
    {
     "name": "stdout",
     "output_type": "stream",
     "text": [
      "[2. 2. 7.]\n"
     ]
    }
   ],
   "source": [
    "sorted_col_arr = np.sort(arr, axis=0, kind = \"heapsort\") # Sorted by column\n",
    "print(sorted_col_arr)"
   ],
   "metadata": {
    "collapsed": false,
    "ExecuteTime": {
     "end_time": "2023-09-01T10:55:04.786752Z",
     "start_time": "2023-09-01T10:55:04.734552Z"
    }
   },
   "id": "6f7f8806a52fd696"
  },
  {
   "cell_type": "code",
   "execution_count": 8,
   "outputs": [],
   "source": [
    "# Copy of array\n",
    "arr_view = sorted_arr.view() # Any change does affect main\n",
    "arr_copy = sorted_arr.copy() # Any change does not affect main\n"
   ],
   "metadata": {
    "collapsed": false,
    "ExecuteTime": {
     "end_time": "2023-09-01T10:55:04.793420Z",
     "start_time": "2023-09-01T10:55:04.738839Z"
    }
   },
   "id": "e6c737d156edf423"
  },
  {
   "cell_type": "markdown",
   "source": [
    "# List Comprehension\n",
    "* [expression_action if condition else option for I in list ]"
   ],
   "metadata": {
    "collapsed": false
   },
   "id": "32e75965b4f774f9"
  },
  {
   "cell_type": "code",
   "execution_count": 9,
   "outputs": [
    {
     "name": "stdout",
     "output_type": "stream",
     "text": [
      "Hello Iam Manish\n"
     ]
    }
   ],
   "source": [
    "my_string = \"HelloIamManish\"\n",
    "my_string = \"\".join( [ i if i.islower() else \" \" + i for i in my_string])[1:]\n",
    "print(my_string)"
   ],
   "metadata": {
    "collapsed": false,
    "ExecuteTime": {
     "end_time": "2023-09-01T10:55:04.793798Z",
     "start_time": "2023-09-01T10:55:04.742928Z"
    }
   },
   "id": "e6a833846010baa6"
  },
  {
   "cell_type": "code",
   "execution_count": 10,
   "outputs": [
    {
     "name": "stdout",
     "output_type": "stream",
     "text": [
      "[False, True, False, True, True, False] \n",
      "\n",
      "[0, 1, 0, 1, 1, 0]\n"
     ]
    }
   ],
   "source": [
    "bits = [False, True, False, True, True]\n",
    "new_bit = [1 if b==True else 0 for b in bits ]  \n",
    "print(bits, \"\\n\")\n",
    "print(new_bit)"
   ],
   "metadata": {
    "collapsed": false,
    "ExecuteTime": {
     "end_time": "2023-09-01T10:55:04.794053Z",
     "start_time": "2023-09-01T10:55:04.747309Z"
    }
   },
   "id": "48546eccc92d225"
  },
  {
   "cell_type": "markdown",
   "source": [
    "# Dictionary Comprehension\n",
    "* Create dictionary from  1. list, 2. tuple, 3. dataframes\n",
    "* Modify dictionary in place\n",
    "* Create complex data structures: 1. dict of lists, 2. list of dict"
   ],
   "metadata": {
    "collapsed": false
   },
   "id": "8e08ac4c53a0bde4"
  },
  {
   "cell_type": "code",
   "execution_count": 11,
   "outputs": [
    {
     "name": "stdout",
     "output_type": "stream",
     "text": [
      "{'manish': 'programmer', 'ajay': 'actor', 'jacob': 'painter', 'Ravi': 'singer'}\n"
     ]
    }
   ],
   "source": [
    "names = ['manish', 'ajay', 'jacob']\n",
    "profs = ['programmer', 'actor', 'painter']\n",
    "my_dict = {\n",
    "    names[i]:profs[i] for i in range(len(profs))\n",
    "}\n",
    "print(my_dict)"
   ],
   "metadata": {
    "collapsed": false,
    "ExecuteTime": {
     "end_time": "2023-09-01T10:55:04.794136Z",
     "start_time": "2023-09-01T10:55:04.751409Z"
    }
   },
   "id": "c297e2819959b7a8"
  },
  {
   "cell_type": "code",
   "execution_count": 12,
   "outputs": [
    {
     "name": "stdout",
     "output_type": "stream",
     "text": [
      "{'manish': 'programmer', 'ajay': 'actor', 'jacob': 'painter'}\n"
     ]
    }
   ],
   "source": [
    "names = ('manish', 'ajay', 'jacob')\n",
    "profs = ('programmer', 'actor', 'painter')\n",
    "my_tuple_dict = {\n",
    "    names[i]:profs[i] for i in range(len(profs))\n",
    "}\n",
    "print(my_tuple_dict)"
   ],
   "metadata": {
    "collapsed": false,
    "ExecuteTime": {
     "end_time": "2023-09-01T10:55:04.794201Z",
     "start_time": "2023-09-01T10:55:04.755670Z"
    }
   },
   "id": "2bebb04238ad139b"
  },
  {
   "cell_type": "code",
   "execution_count": 13,
   "outputs": [
    {
     "name": "stdout",
     "output_type": "stream",
     "text": [
      "{'manish': 'programmer', 'ajay': 'actor', 'jacob': 'painter', 'Navjeet': 'Dancer'}\n"
     ]
    }
   ],
   "source": [
    "names = pd.DataFrame(['manish', 'ajay', 'jacob'])\n",
    "profs = pd.DataFrame(['programmer', 'actor', 'painter'])\n",
    "my_df_dict = {\n",
    "    names[0][i]:profs[0][i] for i in range(len(profs))\n",
    "}\n",
    "print(my_df_dict)"
   ],
   "metadata": {
    "collapsed": false,
    "ExecuteTime": {
     "end_time": "2023-09-01T10:55:04.794252Z",
     "start_time": "2023-09-01T10:55:04.759070Z"
    }
   },
   "id": "24300c6671fb6675"
  },
  {
   "cell_type": "code",
   "execution_count": 14,
   "outputs": [
    {
     "name": "stdout",
     "output_type": "stream",
     "text": [
      "{'manish-Male': 'programmer', 'ajay-Male': 'actor', 'jacob-Male': 'painter', 'Ravi-Male': 'singer'}\n"
     ]
    }
   ],
   "source": [
    "# Modify the list\n",
    "# Accessing keys and value both\n",
    "my_new_dict = {key+\"-Male\":val for (key, val) in my_dict.items()}\n",
    "print(my_new_dict)"
   ],
   "metadata": {
    "collapsed": false,
    "ExecuteTime": {
     "end_time": "2023-09-01T10:55:04.794301Z",
     "start_time": "2023-09-01T10:55:04.762427Z"
    }
   },
   "id": "f0455b5039aacdc2"
  },
  {
   "cell_type": "code",
   "execution_count": 15,
   "outputs": [
    {
     "name": "stdout",
     "output_type": "stream",
     "text": [
      "{'manish-Male': None, 'ajay-Male': None, 'jacob-Male': None, 'Ravi-Male': None}\n"
     ]
    }
   ],
   "source": [
    "# Without item function we would be accessing only keys \n",
    "my_new_dict = {key+\"-Male\": None for key in my_dict}\n",
    "print(my_new_dict)"
   ],
   "metadata": {
    "collapsed": false,
    "ExecuteTime": {
     "end_time": "2023-09-01T10:55:04.794349Z",
     "start_time": "2023-09-01T10:55:04.766149Z"
    }
   },
   "id": "c3ec58d47e18320"
  },
  {
   "cell_type": "code",
   "execution_count": 16,
   "outputs": [
    {
     "name": "stdout",
     "output_type": "stream",
     "text": [
      "{'manish-Male': 'programmer', 'anita-Female': 'actor', 'jacob-Male': 'painter', 'Ravi-Male': 'singer'}\n"
     ]
    }
   ],
   "source": [
    "# Change in the keys\n",
    "my_new_dict = {(key+\"-Male\" if key!= \"ajay\" else \"anita-Female\"):val for (key, val) in my_dict.items()}\n",
    "print(my_new_dict)"
   ],
   "metadata": {
    "collapsed": false,
    "ExecuteTime": {
     "end_time": "2023-09-01T10:55:04.794394Z",
     "start_time": "2023-09-01T10:55:04.770216Z"
    }
   },
   "id": "6995607db3330433"
  },
  {
   "cell_type": "code",
   "execution_count": 17,
   "outputs": [
    {
     "name": "stdout",
     "output_type": "stream",
     "text": [
      "{'manish-Male': 'programmer', 'anita-Female': 'actress', 'jacob-Male': 'painter', 'Ravi-Male': 'singer'}\n"
     ]
    }
   ],
   "source": [
    "# Change in the keys and values\n",
    "my_new_dict = {(key+\"-Male\" if key!= \"ajay\" else \"anita-Female\"): (val if val != \"actor\" else \"actress\") for (key, val) in my_dict.items()}\n",
    "print(my_new_dict)"
   ],
   "metadata": {
    "collapsed": false,
    "ExecuteTime": {
     "end_time": "2023-09-01T10:55:04.794442Z",
     "start_time": "2023-09-01T10:55:04.772046Z"
    }
   },
   "id": "94c06d4479f1c506"
  },
  {
   "cell_type": "markdown",
   "source": [
    "# Creating Dictionary of list"
   ],
   "metadata": {
    "collapsed": false
   },
   "id": "be52e207816264c9"
  },
  {
   "cell_type": "code",
   "execution_count": 18,
   "outputs": [
    {
     "name": "stdout",
     "output_type": "stream",
     "text": [
      "['G', 'G', 'T', 'A', 'T', 'G', 'C', 'G']\n"
     ]
    }
   ],
   "source": [
    "import random\n",
    "bases = [\"A\", \"T\", \"G\", \"C\"]\n",
    "strand1 = random.choices(bases, k=10)\n",
    "# strand2 = random.choices(bases, k=10)\n",
    "print(strand1)"
   ],
   "metadata": {
    "collapsed": false,
    "ExecuteTime": {
     "end_time": "2023-09-01T10:55:04.794487Z",
     "start_time": "2023-09-01T10:55:04.775332Z"
    }
   },
   "id": "74aaa168611bd4ed"
  },
  {
   "cell_type": "code",
   "execution_count": 19,
   "outputs": [
    {
     "name": "stdout",
     "output_type": "stream",
     "text": [
      "{0: [], 1: [], 2: [], 3: [], 4: [], 5: [], 6: [], 7: []}\n"
     ]
    }
   ],
   "source": [
    "dna = {key:[] for (key, val) in enumerate(strand1)}\n",
    "print(dna)"
   ],
   "metadata": {
    "collapsed": false,
    "ExecuteTime": {
     "end_time": "2023-09-01T10:55:04.794536Z",
     "start_time": "2023-09-01T10:55:04.779750Z"
    }
   },
   "id": "1522ec6f0bca66c"
  },
  {
   "cell_type": "code",
   "execution_count": 20,
   "outputs": [
    {
     "name": "stdout",
     "output_type": "stream",
     "text": [
      "key:G\n",
      "key:G\n",
      "key:T\n",
      "key:A\n",
      "key:T\n",
      "key:G\n",
      "key:C\n",
      "key:G\n"
     ]
    }
   ],
   "source": [
    "for key in strand1:\n",
    "    print(f\"key:{key}\")"
   ],
   "metadata": {
    "collapsed": false,
    "ExecuteTime": {
     "end_time": "2023-09-01T10:55:04.795184Z",
     "start_time": "2023-09-01T10:55:04.783684Z"
    }
   },
   "id": "9aa406be8fb02574"
  },
  {
   "cell_type": "code",
   "execution_count": 21,
   "outputs": [
    {
     "name": "stdout",
     "output_type": "stream",
     "text": [
      "key:(0, 'G')\n",
      "key:(1, 'G')\n",
      "key:(2, 'T')\n",
      "key:(3, 'A')\n",
      "key:(4, 'T')\n",
      "key:(5, 'G')\n",
      "key:(6, 'C')\n",
      "key:(7, 'G')\n"
     ]
    }
   ],
   "source": [
    "for key in enumerate(strand1):\n",
    "    print(f\"key:{key}\")"
   ],
   "metadata": {
    "collapsed": false,
    "ExecuteTime": {
     "end_time": "2023-09-01T10:55:04.795458Z",
     "start_time": "2023-09-01T10:55:04.787889Z"
    }
   },
   "id": "fa10f791cff60dcf"
  },
  {
   "cell_type": "code",
   "execution_count": 22,
   "outputs": [
    {
     "name": "stdout",
     "output_type": "stream",
     "text": [
      "key:0: val:G\n",
      "key:1: val:G\n",
      "key:2: val:T\n",
      "key:3: val:A\n",
      "key:4: val:T\n",
      "key:5: val:G\n",
      "key:6: val:C\n",
      "key:7: val:G\n"
     ]
    }
   ],
   "source": [
    "for key, val in enumerate(strand1):\n",
    "    print(f\"key:{key}: val:{val}\")"
   ],
   "metadata": {
    "collapsed": false,
    "ExecuteTime": {
     "end_time": "2023-09-01T10:55:04.795624Z",
     "start_time": "2023-09-01T10:55:04.790280Z"
    }
   },
   "id": "463c527248f3f28c"
  },
  {
   "cell_type": "code",
   "execution_count": 23,
   "outputs": [
    {
     "name": "stdout",
     "output_type": "stream",
     "text": [
      "{0: ['G', None], 1: ['G', None], 2: ['T', None], 3: ['A', None], 4: ['T', None], 5: ['G', None], 6: ['C', None], 7: ['G', None]}\n"
     ]
    }
   ],
   "source": [
    "# Putting values for base\n",
    "dna = {key:[val, None] for (key, val) in enumerate(strand1)}\n",
    "print(dna)"
   ],
   "metadata": {
    "collapsed": false,
    "ExecuteTime": {
     "end_time": "2023-09-01T10:55:04.796437Z",
     "start_time": "2023-09-01T10:55:04.792362Z"
    }
   },
   "id": "3f7415f9592af8f5"
  },
  {
   "cell_type": "code",
   "execution_count": 24,
   "outputs": [
    {
     "name": "stdout",
     "output_type": "stream",
     "text": [
      "0 : ['G', 'C']\n",
      "1 : ['G', 'C']\n",
      "2 : ['T', 'A']\n",
      "3 : ['A', 'T']\n",
      "4 : ['T', 'A']\n",
      "5 : ['G', 'C']\n",
      "6 : ['C', 'G']\n",
      "7 : ['G', 'C']\n"
     ]
    }
   ],
   "source": [
    "dna = {key:[val, (\"T\" if val == \"A\" else \"A\" if val == \"T\" \n",
    "                  else \"C\" if val == \"G\" else \"G\")] for (key, val) in enumerate(strand1)}\n",
    "\n",
    "for (key,value) in dna.items():\n",
    "    print(key, ':', value)"
   ],
   "metadata": {
    "collapsed": false,
    "ExecuteTime": {
     "end_time": "2023-09-01T10:55:04.815424Z",
     "start_time": "2023-09-01T10:55:04.795060Z"
    }
   },
   "id": "7c001c60b914c212"
  },
  {
   "cell_type": "markdown",
   "source": [
    "# Creating List of directory"
   ],
   "metadata": {
    "collapsed": false
   },
   "id": "e0975567c48d44a1"
  },
  {
   "cell_type": "code",
   "execution_count": 25,
   "outputs": [
    {
     "name": "stdout",
     "output_type": "stream",
     "text": [
      "[{}, {}, {}, {}]\n"
     ]
    }
   ],
   "source": [
    "keys = [\"id\", \"username\", \"password\"]\n",
    "users = [\"manish\", \"shakeel\", \"navjeet\"]\n",
    "\n",
    "list_dict = [{} for i in range(len(users))]\n",
    "print(list_dict)"
   ],
   "metadata": {
    "collapsed": false,
    "ExecuteTime": {
     "end_time": "2023-09-01T10:55:04.815658Z",
     "start_time": "2023-09-01T10:55:04.796496Z"
    }
   },
   "id": "8ff0064eaca29216"
  },
  {
   "cell_type": "code",
   "execution_count": 26,
   "outputs": [
    {
     "name": "stdout",
     "output_type": "stream",
     "text": [
      "[{'id': None, 'username': None, 'password': None}, {'id': None, 'username': None, 'password': None}, {'id': None, 'username': None, 'password': None}, {'id': None, 'username': None, 'password': None}]\n"
     ]
    }
   ],
   "source": [
    "# Putting values to Dictionary\n",
    "# Putting the key values from the keys list\n",
    "list_dict = [{key : None for key in keys } for i in range(len(users))]\n",
    "print(list_dict)"
   ],
   "metadata": {
    "collapsed": false,
    "ExecuteTime": {
     "end_time": "2023-09-01T10:55:04.815733Z",
     "start_time": "2023-09-01T10:55:04.801485Z"
    }
   },
   "id": "69980c044ca58e62"
  },
  {
   "cell_type": "code",
   "execution_count": 27,
   "outputs": [
    {
     "name": "stdout",
     "output_type": "stream",
     "text": [
      "[{'id': 0, 'username': 'manish', 'password': None}, {'id': 1, 'username': 'shakeel', 'password': None}, {'id': 2, 'username': 'navjeet', 'password': None}, {'id': 3, 'username': 'Kartik', 'password': None}]\n"
     ]
    }
   ],
   "source": [
    "# Putting values to Dictionary\n",
    "# Putting the values from the users list\n",
    "\n",
    "list_dict = [{key:(i if key == \"id\" else users[i] if key == \"username\" else None) for key in keys} for i in range(len(users))]\n",
    "print(list_dict) "
   ],
   "metadata": {
    "collapsed": false,
    "ExecuteTime": {
     "end_time": "2023-09-01T10:55:04.815802Z",
     "start_time": "2023-09-01T10:55:04.806541Z"
    }
   },
   "id": "c42e7350cc1c7e1c"
  },
  {
   "cell_type": "markdown",
   "source": [
    "<h3>Creating random password using list comprehension, \"string.printable\""
   ],
   "metadata": {
    "collapsed": false
   },
   "id": "a782dfc68d030b06"
  },
  {
   "cell_type": "code",
   "execution_count": 28,
   "outputs": [
    {
     "name": "stdout",
     "output_type": "stream",
     "text": [
      "qwF03`y;\n"
     ]
    }
   ],
   "source": [
    "import random\n",
    "import string\n",
    "\n",
    "password = \"\".join(random.choices(string.printable, k=8))\n",
    "print(password)"
   ],
   "metadata": {
    "collapsed": false,
    "ExecuteTime": {
     "end_time": "2023-09-01T10:55:04.815848Z",
     "start_time": "2023-09-01T10:55:04.810705Z"
    }
   },
   "id": "b64a9a0297dea594"
  },
  {
   "cell_type": "code",
   "execution_count": 29,
   "outputs": [
    {
     "name": "stdout",
     "output_type": "stream",
     "text": [
      "[{'id': 0, 'username': 'manish', 'password': 'Qk:{5Vy['}, {'id': 1, 'username': 'shakeel', 'password': 'y~an{;8H'}, {'id': 2, 'username': 'navjeet', 'password': 'Y-]Jn6km'}, {'id': 3, 'username': 'Kartik', 'password': 'L\\rlPuRyf'}]\n"
     ]
    }
   ],
   "source": [
    "# Putting values to Dictionary\n",
    "# Putting the values from the users list\n",
    "\n",
    "list_dict = [{key:(i if key == \"id\" else users[i] if key == \"username\" else \"\".join(random.choices(string.printable, k=8))) \n",
    "              for key in keys} for i in range(len(users))]\n",
    "print(list_dict) "
   ],
   "metadata": {
    "collapsed": false,
    "ExecuteTime": {
     "end_time": "2023-09-01T10:55:04.819713Z",
     "start_time": "2023-09-01T10:55:04.815395Z"
    }
   },
   "id": "9cd8559610f2a47a"
  },
  {
   "cell_type": "code",
   "execution_count": 29,
   "outputs": [],
   "source": [],
   "metadata": {
    "collapsed": false,
    "ExecuteTime": {
     "end_time": "2023-09-01T10:55:04.823361Z",
     "start_time": "2023-09-01T10:55:04.818781Z"
    }
   },
   "id": "6a746364478c399c"
  }
 ],
 "metadata": {
  "kernelspec": {
   "display_name": "Python 3",
   "language": "python",
   "name": "python3"
  },
  "language_info": {
   "codemirror_mode": {
    "name": "ipython",
    "version": 2
   },
   "file_extension": ".py",
   "mimetype": "text/x-python",
   "name": "python",
   "nbconvert_exporter": "python",
   "pygments_lexer": "ipython2",
   "version": "2.7.6"
  }
 },
 "nbformat": 4,
 "nbformat_minor": 5
}
