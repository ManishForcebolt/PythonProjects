{
 "cells": [
  {
   "cell_type": "code",
   "execution_count": 1,
   "metadata": {
    "ExecuteTime": {
     "end_time": "2023-08-30T06:43:39.834699Z",
     "start_time": "2023-08-30T06:43:39.713099Z"
    }
   },
   "outputs": [
    {
     "name": "stdout",
     "output_type": "stream",
     "text": [
      "zsh:1: command not found: pip\n"
     ]
    }
   ],
   "source": [
    "!pip install numpy\n"
   ]
  },
  {
   "cell_type": "code",
   "execution_count": 2,
   "metadata": {
    "ExecuteTime": {
     "end_time": "2023-08-29T09:23:08.586404Z",
     "start_time": "2023-08-29T09:23:08.195585Z"
    }
   },
   "outputs": [],
   "source": [
    "import numpy as np"
   ]
  },
  {
   "cell_type": "markdown",
   "metadata": {},
   "source": [
    "# 1. Create"
   ]
  },
  {
   "cell_type": "code",
   "execution_count": 4,
   "metadata": {
    "ExecuteTime": {
     "end_time": "2023-08-29T09:24:37.951224Z",
     "start_time": "2023-08-29T09:24:37.943791Z"
    }
   },
   "outputs": [],
   "source": [
    "data = np.random.rand(2,3,4)\n",
    "\n",
    "zeroes = np.zeros((2,2,2))\n",
    "full = np.full((2,2,2), 7)\n",
    "ones = np.ones((2,2,2))"
   ]
  },
  {
   "cell_type": "code",
   "execution_count": 5,
   "metadata": {
    "ExecuteTime": {
     "end_time": "2023-08-29T09:24:42.856160Z",
     "start_time": "2023-08-29T09:24:42.850894Z"
    }
   },
   "outputs": [
    {
     "data": {
      "text/plain": [
       "array([[[0.63197946, 0.93687163, 0.39911133, 0.17930035],\n",
       "        [0.70982171, 0.5967851 , 0.66516079, 0.45655156],\n",
       "        [0.08286169, 0.43339994, 0.51811461, 0.81593309]],\n",
       "\n",
       "       [[0.45585234, 0.71912147, 0.2594868 , 0.04670697],\n",
       "        [0.15746765, 0.1578807 , 0.92589407, 0.27785804],\n",
       "        [0.36813579, 0.28484414, 0.46719121, 0.5043405 ]]])"
      ]
     },
     "execution_count": 5,
     "metadata": {},
     "output_type": "execute_result"
    }
   ],
   "source": [
    "data"
   ]
  },
  {
   "cell_type": "code",
   "execution_count": 6,
   "metadata": {},
   "outputs": [
    {
     "data": {
      "text/plain": [
       "array([[[7, 7],\n",
       "        [7, 7]],\n",
       "\n",
       "       [[7, 7],\n",
       "        [7, 7]]])"
      ]
     },
     "execution_count": 6,
     "metadata": {},
     "output_type": "execute_result"
    }
   ],
   "source": [
    "full"
   ]
  },
  {
   "cell_type": "code",
   "execution_count": 7,
   "metadata": {
    "ExecuteTime": {
     "end_time": "2023-08-29T09:24:45.121756Z",
     "start_time": "2023-08-29T09:24:45.113438Z"
    }
   },
   "outputs": [
    {
     "data": {
      "text/plain": [
       "array([[[1., 1.],\n",
       "        [1., 1.]],\n",
       "\n",
       "       [[1., 1.],\n",
       "        [1., 1.]]])"
      ]
     },
     "execution_count": 7,
     "metadata": {},
     "output_type": "execute_result"
    }
   ],
   "source": [
    "ones"
   ]
  },
  {
   "cell_type": "code",
   "execution_count": 8,
   "metadata": {
    "ExecuteTime": {
     "end_time": "2023-08-29T09:24:46.868304Z",
     "start_time": "2023-08-29T09:24:46.862680Z"
    }
   },
   "outputs": [],
   "source": [
    "arr = np.array([[1,2,3,4],[1,2,3,4]])"
   ]
  },
  {
   "cell_type": "code",
   "execution_count": 9,
   "metadata": {
    "ExecuteTime": {
     "end_time": "2023-08-29T09:24:47.964880Z",
     "start_time": "2023-08-29T09:24:47.956374Z"
    }
   },
   "outputs": [
    {
     "data": {
      "text/plain": [
       "numpy.ndarray"
      ]
     },
     "execution_count": 9,
     "metadata": {},
     "output_type": "execute_result"
    }
   ],
   "source": [
    "type(arr)"
   ]
  },
  {
   "cell_type": "code",
   "execution_count": 10,
   "metadata": {
    "ExecuteTime": {
     "end_time": "2023-08-29T09:24:52.412046Z",
     "start_time": "2023-08-29T09:24:52.403817Z"
    }
   },
   "outputs": [
    {
     "data": {
      "text/plain": [
       "array([[1, 2, 3, 4],\n",
       "       [1, 2, 3, 4]])"
      ]
     },
     "execution_count": 10,
     "metadata": {},
     "output_type": "execute_result"
    }
   ],
   "source": [
    "arr"
   ]
  },
  {
   "cell_type": "markdown",
   "metadata": {},
   "source": [
    "# 2. Read"
   ]
  },
  {
   "cell_type": "code",
   "execution_count": 11,
   "metadata": {
    "ExecuteTime": {
     "end_time": "2023-08-29T09:24:54.540457Z",
     "start_time": "2023-08-29T09:24:54.528629Z"
    }
   },
   "outputs": [],
   "source": [
    "# Attributes\n",
    "shape = data.shape\n",
    "size = data.size\n",
    "types = data.dtype"
   ]
  },
  {
   "cell_type": "code",
   "execution_count": 14,
   "metadata": {
    "ExecuteTime": {
     "end_time": "2023-08-29T09:24:57.576665Z",
     "start_time": "2023-08-29T09:24:57.573014Z"
    }
   },
   "outputs": [
    {
     "data": {
      "text/plain": [
       "dtype('float64')"
      ]
     },
     "execution_count": 14,
     "metadata": {},
     "output_type": "execute_result"
    }
   ],
   "source": [
    "types"
   ]
  },
  {
   "cell_type": "code",
   "execution_count": 15,
   "metadata": {
    "ExecuteTime": {
     "end_time": "2023-08-29T09:24:59.259062Z",
     "start_time": "2023-08-29T09:24:59.251559Z"
    }
   },
   "outputs": [],
   "source": [
    "# Slicing\n",
    "arr = data[0]\n",
    "slicer = data[0][0:2]\n",
    "reverse = data[-1]\n",
    "singleval = data[0][0][0]"
   ]
  },
  {
   "cell_type": "code",
   "execution_count": 19,
   "metadata": {},
   "outputs": [
    {
     "data": {
      "text/plain": [
       "array([[0.45585234, 0.71912147, 0.2594868 , 0.04670697],\n",
       "       [0.15746765, 0.1578807 , 0.92589407, 0.27785804],\n",
       "       [0.36813579, 0.28484414, 0.46719121, 0.5043405 ]])"
      ]
     },
     "execution_count": 19,
     "metadata": {},
     "output_type": "execute_result"
    }
   ],
   "source": [
    "reverse"
   ]
  },
  {
   "cell_type": "code",
   "execution_count": 16,
   "metadata": {
    "ExecuteTime": {
     "end_time": "2023-08-29T09:25:03.429982Z",
     "start_time": "2023-08-29T09:25:03.425494Z"
    }
   },
   "outputs": [
    {
     "data": {
      "text/plain": [
       "array([[0.63197946, 0.93687163, 0.39911133, 0.17930035],\n",
       "       [0.70982171, 0.5967851 , 0.66516079, 0.45655156],\n",
       "       [0.08286169, 0.43339994, 0.51811461, 0.81593309]])"
      ]
     },
     "execution_count": 16,
     "metadata": {},
     "output_type": "execute_result"
    }
   ],
   "source": [
    "arr"
   ]
  },
  {
   "cell_type": "code",
   "execution_count": 17,
   "metadata": {},
   "outputs": [
    {
     "data": {
      "text/plain": [
       "array([[0.63197946, 0.93687163, 0.39911133, 0.17930035],\n",
       "       [0.70982171, 0.5967851 , 0.66516079, 0.45655156]])"
      ]
     },
     "execution_count": 17,
     "metadata": {},
     "output_type": "execute_result"
    }
   ],
   "source": [
    "slicer"
   ]
  },
  {
   "cell_type": "code",
   "execution_count": 13,
   "metadata": {
    "ExecuteTime": {
     "end_time": "2023-08-29T09:25:07.833650Z",
     "start_time": "2023-08-29T09:25:07.824396Z"
    }
   },
   "outputs": [
    {
     "data": {
      "text/plain": [
       "array([[[0.8496555 , 0.97240805, 0.56992782, 0.84483832],\n",
       "        [0.48206751, 0.56386194, 0.38328511, 0.94474075],\n",
       "        [0.62264942, 0.55445021, 0.24909576, 0.22786525]],\n",
       "\n",
       "       [[0.59022627, 0.77402142, 0.91253204, 0.90604937],\n",
       "        [0.17350121, 0.31576644, 0.36229959, 0.11070229],\n",
       "        [0.20097927, 0.14289693, 0.81421516, 0.23983404]]])"
      ]
     },
     "execution_count": 13,
     "metadata": {},
     "output_type": "execute_result"
    }
   ],
   "source": [
    "data"
   ]
  },
  {
   "cell_type": "code",
   "execution_count": 20,
   "metadata": {},
   "outputs": [
    {
     "data": {
      "text/plain": [
       "0.6319794595373655"
      ]
     },
     "execution_count": 20,
     "metadata": {},
     "output_type": "execute_result"
    }
   ],
   "source": [
    "singleval"
   ]
  },
  {
   "cell_type": "markdown",
   "metadata": {},
   "source": [
    "# 3. Update"
   ]
  },
  {
   "cell_type": "code",
   "execution_count": 34,
   "metadata": {
    "ExecuteTime": {
     "end_time": "2023-08-29T09:25:10.881951Z",
     "start_time": "2023-08-29T09:25:10.864400Z"
    }
   },
   "outputs": [],
   "source": [
    "list1 = np.random.rand(10) \n",
    "list2 = np.random.rand(10) "
   ]
  },
  {
   "cell_type": "code",
   "execution_count": 35,
   "metadata": {
    "ExecuteTime": {
     "end_time": "2023-08-29T09:25:12.647418Z",
     "start_time": "2023-08-29T09:25:12.638840Z"
    }
   },
   "outputs": [
    {
     "data": {
      "text/plain": [
       "array([0.51981135, 0.30303372, 0.82968976, 0.3214754 , 0.12390154,\n",
       "       0.51528526, 0.48322378, 0.59991698, 0.17418005, 0.99439513])"
      ]
     },
     "execution_count": 35,
     "metadata": {},
     "output_type": "execute_result"
    }
   ],
   "source": [
    "list2"
   ]
  },
  {
   "cell_type": "code",
   "execution_count": 36,
   "metadata": {
    "ExecuteTime": {
     "end_time": "2023-08-29T09:25:16.037462Z",
     "start_time": "2023-08-29T09:25:16.029142Z"
    }
   },
   "outputs": [],
   "source": [
    "# Basic Math\n",
    "add = np.add(list1, list2)\n",
    "sub = np.subtract(list1, list2)\n",
    "div = np.divide(list1, list2)\n",
    "mult = np.multiply(list1, list2)\n",
    "dot = np.dot(list1, list2)"
   ]
  },
  {
   "cell_type": "code",
   "execution_count": 37,
   "metadata": {
    "ExecuteTime": {
     "end_time": "2023-08-29T09:25:20.398461Z",
     "start_time": "2023-08-29T09:25:20.389439Z"
    }
   },
   "outputs": [
    {
     "data": {
      "text/plain": [
       "2.2780466004764732"
      ]
     },
     "execution_count": 37,
     "metadata": {},
     "output_type": "execute_result"
    }
   ],
   "source": [
    "dot"
   ]
  },
  {
   "cell_type": "code",
   "execution_count": 46,
   "metadata": {
    "ExecuteTime": {
     "end_time": "2023-08-29T09:25:25.397500Z",
     "start_time": "2023-08-29T09:25:25.390316Z"
    }
   },
   "outputs": [],
   "source": [
    "# Stat Functions\n",
    "sqrt = np.sqrt(25)\n",
    "ab = np.abs(-2)\n",
    "power = np.power(2,7)\n",
    "log = np.log(10)\n",
    "exp = np.exp([2,3])\n",
    "mins = np.min(list1)\n",
    "maxs = np.max(list1)"
   ]
  },
  {
   "cell_type": "code",
   "execution_count": 48,
   "metadata": {
    "ExecuteTime": {
     "end_time": "2023-08-29T09:25:26.249681Z",
     "start_time": "2023-08-29T09:25:26.245545Z"
    }
   },
   "outputs": [
    {
     "name": "stdout",
     "output_type": "stream",
     "text": [
      "0.14842455209029426 0.839793220894265\n"
     ]
    }
   ],
   "source": [
    "print(mins,maxs)"
   ]
  },
  {
   "cell_type": "code",
   "execution_count": 49,
   "metadata": {
    "ExecuteTime": {
     "end_time": "2023-08-29T09:25:27.892837Z",
     "start_time": "2023-08-29T09:25:27.884865Z"
    }
   },
   "outputs": [
    {
     "data": {
      "text/plain": [
       "array([[[0.63197946, 0.93687163, 0.39911133, 0.17930035],\n",
       "        [0.70982171, 0.5967851 , 0.66516079, 0.45655156],\n",
       "        [0.08286169, 0.43339994, 0.51811461, 0.81593309]],\n",
       "\n",
       "       [[0.45585234, 0.71912147, 0.2594868 , 0.04670697],\n",
       "        [0.15746765, 0.1578807 , 0.92589407, 0.27785804],\n",
       "        [0.36813579, 0.28484414, 0.46719121, 0.5043405 ]]])"
      ]
     },
     "execution_count": 49,
     "metadata": {},
     "output_type": "execute_result"
    }
   ],
   "source": [
    "data"
   ]
  },
  {
   "cell_type": "code",
   "execution_count": 50,
   "metadata": {
    "ExecuteTime": {
     "end_time": "2023-08-29T09:25:29.517650Z",
     "start_time": "2023-08-29T09:25:29.514013Z"
    }
   },
   "outputs": [],
   "source": [
    "data[0][0][0] = 700"
   ]
  },
  {
   "cell_type": "code",
   "execution_count": 51,
   "metadata": {
    "ExecuteTime": {
     "end_time": "2023-08-29T09:25:31.053838Z",
     "start_time": "2023-08-29T09:25:31.045635Z"
    }
   },
   "outputs": [
    {
     "data": {
      "text/plain": [
       "array([[[7.00000000e+02, 9.36871631e-01, 3.99111333e-01, 1.79300349e-01],\n",
       "        [7.09821706e-01, 5.96785100e-01, 6.65160790e-01, 4.56551562e-01],\n",
       "        [8.28616876e-02, 4.33399939e-01, 5.18114607e-01, 8.15933090e-01]],\n",
       "\n",
       "       [[4.55852342e-01, 7.19121466e-01, 2.59486803e-01, 4.67069654e-02],\n",
       "        [1.57467652e-01, 1.57880701e-01, 9.25894066e-01, 2.77858035e-01],\n",
       "        [3.68135794e-01, 2.84844136e-01, 4.67191209e-01, 5.04340500e-01]]])"
      ]
     },
     "execution_count": 51,
     "metadata": {},
     "output_type": "execute_result"
    }
   ],
   "source": [
    "data"
   ]
  },
  {
   "cell_type": "code",
   "execution_count": 52,
   "metadata": {
    "ExecuteTime": {
     "end_time": "2023-08-29T09:25:32.318660Z",
     "start_time": "2023-08-29T09:25:32.314258Z"
    }
   },
   "outputs": [
    {
     "data": {
      "text/plain": [
       "array([[[1.79300349e-01, 3.99111333e-01, 9.36871631e-01, 7.00000000e+02],\n",
       "        [4.56551562e-01, 5.96785100e-01, 6.65160790e-01, 7.09821706e-01],\n",
       "        [8.28616876e-02, 4.33399939e-01, 5.18114607e-01, 8.15933090e-01]],\n",
       "\n",
       "       [[4.67069654e-02, 2.59486803e-01, 4.55852342e-01, 7.19121466e-01],\n",
       "        [1.57467652e-01, 1.57880701e-01, 2.77858035e-01, 9.25894066e-01],\n",
       "        [2.84844136e-01, 3.68135794e-01, 4.67191209e-01, 5.04340500e-01]]])"
      ]
     },
     "execution_count": 52,
     "metadata": {},
     "output_type": "execute_result"
    }
   ],
   "source": [
    "data.sort()\n",
    "data"
   ]
  },
  {
   "cell_type": "code",
   "execution_count": 53,
   "metadata": {
    "ExecuteTime": {
     "end_time": "2023-08-29T09:25:33.613366Z",
     "start_time": "2023-08-29T09:25:33.605835Z"
    }
   },
   "outputs": [
    {
     "name": "stdout",
     "output_type": "stream",
     "text": [
      "(2, 3, 4)\n"
     ]
    }
   ],
   "source": [
    "print(data.shape)"
   ]
  },
  {
   "cell_type": "code",
   "execution_count": 54,
   "metadata": {
    "ExecuteTime": {
     "end_time": "2023-08-29T09:25:34.826822Z",
     "start_time": "2023-08-29T09:25:34.818541Z"
    }
   },
   "outputs": [
    {
     "data": {
      "text/plain": [
       "(2, 2, 6)"
      ]
     },
     "execution_count": 54,
     "metadata": {},
     "output_type": "execute_result"
    }
   ],
   "source": [
    "data = data.reshape((2,2,-1))\n",
    "data.shape"
   ]
  },
  {
   "cell_type": "code",
   "execution_count": 55,
   "metadata": {
    "ExecuteTime": {
     "end_time": "2023-08-29T09:25:37.035341Z",
     "start_time": "2023-08-29T09:25:37.027218Z"
    }
   },
   "outputs": [
    {
     "name": "stdout",
     "output_type": "stream",
     "text": [
      "[0. 0. 0. 0. 0. 0. 0. 0.]\n",
      "[0. 0. 0. 0. 0. 0. 0. 0. 3. 4.]\n"
     ]
    }
   ],
   "source": [
    "zeroes = np.zeros((8))\n",
    "print(zeroes)\n",
    "zeroes = np.append(zeroes, [3,4])\n",
    "print(zeroes)"
   ]
  },
  {
   "cell_type": "code",
   "execution_count": 27,
   "metadata": {
    "ExecuteTime": {
     "end_time": "2023-08-29T09:25:39.701684Z",
     "start_time": "2023-08-29T09:25:39.690787Z"
    }
   },
   "outputs": [
    {
     "name": "stdout",
     "output_type": "stream",
     "text": [
      "[0. 0. 1. 0. 0. 0. 0. 0. 0. 3. 4.]\n"
     ]
    }
   ],
   "source": [
    "zeroes = np.insert(zeroes, 2, 1)\n",
    "print(zeroes)"
   ]
  },
  {
   "cell_type": "markdown",
   "metadata": {},
   "source": [
    "# 4. Delete"
   ]
  },
  {
   "cell_type": "code",
   "execution_count": 56,
   "metadata": {
    "ExecuteTime": {
     "end_time": "2023-08-29T09:25:42.255952Z",
     "start_time": "2023-08-29T09:25:42.246732Z"
    }
   },
   "outputs": [
    {
     "data": {
      "text/plain": [
       "array([[[1.79300349e-01, 3.99111333e-01, 9.36871631e-01, 7.00000000e+02,\n",
       "         4.56551562e-01, 5.96785100e-01],\n",
       "        [6.65160790e-01, 7.09821706e-01, 8.28616876e-02, 4.33399939e-01,\n",
       "         5.18114607e-01, 8.15933090e-01]],\n",
       "\n",
       "       [[4.67069654e-02, 2.59486803e-01, 4.55852342e-01, 7.19121466e-01,\n",
       "         1.57467652e-01, 1.57880701e-01],\n",
       "        [2.77858035e-01, 9.25894066e-01, 2.84844136e-01, 3.68135794e-01,\n",
       "         4.67191209e-01, 5.04340500e-01]]])"
      ]
     },
     "execution_count": 56,
     "metadata": {},
     "output_type": "execute_result"
    }
   ],
   "source": [
    "data"
   ]
  },
  {
   "cell_type": "code",
   "execution_count": 57,
   "metadata": {
    "ExecuteTime": {
     "end_time": "2023-08-29T09:25:44.933123Z",
     "start_time": "2023-08-29T09:25:44.924697Z"
    }
   },
   "outputs": [
    {
     "data": {
      "text/plain": [
       "array([[[0.66516079, 0.70982171, 0.08286169, 0.43339994, 0.51811461,\n",
       "         0.81593309]],\n",
       "\n",
       "       [[0.27785804, 0.92589407, 0.28484414, 0.36813579, 0.46719121,\n",
       "         0.5043405 ]]])"
      ]
     },
     "execution_count": 57,
     "metadata": {},
     "output_type": "execute_result"
    }
   ],
   "source": [
    "np.delete(data, 0, axis=1)"
   ]
  },
  {
   "cell_type": "code",
   "execution_count": 58,
   "metadata": {
    "ExecuteTime": {
     "end_time": "2023-08-29T09:25:50.913088Z",
     "start_time": "2023-08-29T09:25:50.905365Z"
    }
   },
   "outputs": [],
   "source": [
    "np.save(\"new array\", data)"
   ]
  },
  {
   "cell_type": "code",
   "execution_count": 59,
   "metadata": {
    "ExecuteTime": {
     "end_time": "2023-08-29T09:25:52.730477Z",
     "start_time": "2023-08-29T09:25:52.722124Z"
    }
   },
   "outputs": [],
   "source": [
    "test = np.load(\"new array.npy\")"
   ]
  },
  {
   "cell_type": "code",
   "execution_count": 60,
   "metadata": {
    "ExecuteTime": {
     "end_time": "2023-08-29T09:25:53.934703Z",
     "start_time": "2023-08-29T09:25:53.930569Z"
    }
   },
   "outputs": [
    {
     "data": {
      "text/plain": [
       "array([[[1.79300349e-01, 3.99111333e-01, 9.36871631e-01, 7.00000000e+02,\n",
       "         4.56551562e-01, 5.96785100e-01],\n",
       "        [6.65160790e-01, 7.09821706e-01, 8.28616876e-02, 4.33399939e-01,\n",
       "         5.18114607e-01, 8.15933090e-01]],\n",
       "\n",
       "       [[4.67069654e-02, 2.59486803e-01, 4.55852342e-01, 7.19121466e-01,\n",
       "         1.57467652e-01, 1.57880701e-01],\n",
       "        [2.77858035e-01, 9.25894066e-01, 2.84844136e-01, 3.68135794e-01,\n",
       "         4.67191209e-01, 5.04340500e-01]]])"
      ]
     },
     "execution_count": 60,
     "metadata": {},
     "output_type": "execute_result"
    }
   ],
   "source": [
    "test"
   ]
  },
  {
   "cell_type": "code",
   "execution_count": null,
   "metadata": {},
   "outputs": [],
   "source": []
  }
 ],
 "metadata": {
  "kernelspec": {
   "display_name": "Python 3 (ipykernel)",
   "language": "python",
   "name": "python3"
  },
  "language_info": {
   "codemirror_mode": {
    "name": "ipython",
    "version": 3
   },
   "file_extension": ".py",
   "mimetype": "text/x-python",
   "name": "python",
   "nbconvert_exporter": "python",
   "pygments_lexer": "ipython3",
   "version": "3.11.4"
  }
 },
 "nbformat": 4,
 "nbformat_minor": 4
}
