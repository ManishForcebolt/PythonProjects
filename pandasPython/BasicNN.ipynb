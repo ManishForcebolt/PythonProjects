{
 "cells": [
  {
   "cell_type": "code",
   "execution_count": 14,
   "outputs": [],
   "source": [
    "import numpy as np\n",
    "import pandas as pd\n",
    "\n",
    "rg = np.random.default_rng()"
   ],
   "metadata": {
    "collapsed": false,
    "ExecuteTime": {
     "end_time": "2023-09-01T11:24:51.092856Z",
     "start_time": "2023-09-01T11:24:51.044353Z"
    }
   },
   "id": "693b91ab2e32255f"
  },
  {
   "cell_type": "code",
   "execution_count": 23,
   "id": "c57607d5-c28e-48d8-a910-18c2975f61cb",
   "metadata": {
    "ExecuteTime": {
     "end_time": "2023-09-01T11:39:20.540562Z",
     "start_time": "2023-09-01T11:39:20.503539Z"
    }
   },
   "outputs": [
    {
     "data": {
      "text/plain": "(         x0        x1        x2  targets\n 0  0.932613  0.321488  0.985776        0\n 1  0.263612  0.323064  0.555208        0\n 2  0.235000  0.818228  0.277076        1\n 3  0.958947  0.955391  0.477218        1,\n array([0.0626475 , 0.35728664, 0.24015365]))"
     },
     "execution_count": 23,
     "metadata": {},
     "output_type": "execute_result"
    }
   ],
   "source": [
    "def generate_data(n_features, n_values):\n",
    "    features = rg.random((n_features, n_values))\n",
    "    weights = rg.random((1, n_values))[0]  # Extra parenthesis to make weight matrix one dimensional\n",
    "    targets = np.random.choice([0, 1], n_features)\n",
    "    data = pd.DataFrame(features, columns=[\"x0\", \"x1\", \"x2\"])\n",
    "    data[\"targets\"] = targets\n",
    "    return data, weights\n",
    "    # print(weights)\n",
    "    # print(targets)\n",
    "\n",
    "\n",
    "generate_data(4, 3)\n",
    "\n"
   ]
  },
  {
   "cell_type": "code",
   "execution_count": null,
   "outputs": [],
   "source": [
    "bias = 0.5\n",
    "\n",
    "\n",
    "def get_weighted_sum(features, weight, bias):\n",
    "    np.dot(feature, weights) + bias\n",
    "\n",
    "\n",
    "data, weights = generate_data(4, 3)"
   ],
   "metadata": {
    "collapsed": false
   },
   "id": "78c7714baa6aa872"
  }
 ],
 "metadata": {
  "kernelspec": {
   "display_name": "Python 3 (ipykernel)",
   "language": "python",
   "name": "python3"
  },
  "language_info": {
   "codemirror_mode": {
    "name": "ipython",
    "version": 3
   },
   "file_extension": ".py",
   "mimetype": "text/x-python",
   "name": "python",
   "nbconvert_exporter": "python",
   "pygments_lexer": "ipython3",
   "version": "3.11.4"
  }
 },
 "nbformat": 4,
 "nbformat_minor": 5
}
